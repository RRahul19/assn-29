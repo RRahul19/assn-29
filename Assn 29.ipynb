{
 "cells": [
  {
   "cell_type": "code",
   "execution_count": 8,
   "metadata": {},
   "outputs": [],
   "source": [
    "import urllib.request\n",
    "import nltk\n",
    "from bs4 import BeautifulSoup"
   ]
  },
  {
   "cell_type": "code",
   "execution_count": 9,
   "metadata": {},
   "outputs": [],
   "source": [
    "response = urllib.request.urlopen('http://php.net/')\n",
    "html = response.read()\n",
    "raw = BeautifulSoup(html,\"html5lib\").get_text()"
   ]
  },
  {
   "cell_type": "code",
   "execution_count": 10,
   "metadata": {},
   "outputs": [
    {
     "name": "stdout",
     "output_type": "stream",
     "text": [
      "the; 244\n",
      "php; 144\n",
      "of; 86\n",
      "for; 85\n",
      "release; 78\n",
      "in; 75\n",
      "and; 65\n",
      "can; 62\n",
      "be; 57\n",
      "this; 52\n",
      "is; 52\n",
      "found; 52\n",
      "on; 49\n",
      "file; 34\n",
      "to; 33\n",
      "you; 33\n",
      "please; 31\n",
      "version; 30\n",
      "downloads; 29\n",
      "source; 28\n",
      "upgrading; 28\n",
      "development; 26\n",
      "list; 26\n",
      "changes; 25\n",
      "page; 24\n",
      "released; 24\n",
      "or; 23\n",
      "windows; 21\n",
      "team; 21\n",
      "visit; 21\n",
      "binaries; 20\n",
      "also; 20\n",
      "bug; 19\n",
      "read; 19\n",
      "7.2.0; 19\n",
      "7.3.0; 18\n",
      "other; 17\n",
      "extensions; 16\n",
      "are; 16\n",
      "features; 15\n",
      "files; 15\n",
      "archive; 15\n",
      "system; 15\n",
      "next; 15\n",
      "download; 15\n",
      "test; 15\n",
      "news; 15\n",
      "alpha; 15\n",
      "wiki; 14\n",
      "carefully; 14\n"
     ]
    }
   ],
   "source": [
    "words = nltk.word_tokenize(raw)\n",
    "\n",
    "# Remove single-character tokens (mostly punctuation)\n",
    "words = [word for word in words if len(word) > 1]\n",
    "\n",
    "# Remove numbers\n",
    "words = [word for word in words if not word.isnumeric()]\n",
    "\n",
    "# Lowercase all words (default_stopwords are lowercase too)\n",
    "words = [word.lower() for word in words]\n",
    "\n",
    "# Calculate frequency distribution\n",
    "fdist = nltk.FreqDist(words)\n",
    "\n",
    "# Output top 50 words\n",
    "for word, frequency in fdist.most_common(50):\n",
    "    print(u'{}; {}'.format(word, frequency))"
   ]
  },
  {
   "cell_type": "code",
   "execution_count": null,
   "metadata": {},
   "outputs": [],
   "source": []
  }
 ],
 "metadata": {
  "kernelspec": {
   "display_name": "Python 3",
   "language": "python",
   "name": "python3"
  },
  "language_info": {
   "codemirror_mode": {
    "name": "ipython",
    "version": 3
   },
   "file_extension": ".py",
   "mimetype": "text/x-python",
   "name": "python",
   "nbconvert_exporter": "python",
   "pygments_lexer": "ipython3",
   "version": "3.6.4"
  }
 },
 "nbformat": 4,
 "nbformat_minor": 2
}
